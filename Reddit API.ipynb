{
 "cells": [
  {
   "cell_type": "markdown",
   "metadata": {},
   "source": [
    "# Script Objectives\n",
    "1) Scrape posts that mention BTC\n",
    "\n",
    "2) Collect historical mentions from 1.1.2020 - 1.1.2021\n",
    "\n",
    "3) Save data into csv format into SQL database\n",
    "\n",
    "4) Apply NLP on or Linear regression to see results"
   ]
  },
  {
   "cell_type": "markdown",
   "metadata": {},
   "source": [
    "## Using Praw API"
   ]
  },
  {
   "cell_type": "code",
   "execution_count": 1,
   "metadata": {},
   "outputs": [],
   "source": [
    "# Libraries\n",
    "\n",
    "import praw\n",
    "import os\n",
    "import requests\n",
    "import pandas as pd\n",
    "import csv\n",
    "from psaw import PushshiftAPI\n",
    "from datetime import datetime\n",
    "\n",
    "# Reddit API id establishment\n",
    "\n",
    "reddit = praw.Reddit(\n",
    "    client_id=\"U_X...\",\n",
    "    client_secret=\"z34...\",\n",
    "    password=\"***\",\n",
    "    user_agent=\"testscript by u/Hunduk\",\n",
    "    username=\"Hunduk\",)\n",
    "#print(reddit.user.me())"
   ]
  },
  {
   "cell_type": "code",
   "execution_count": 2,
   "metadata": {},
   "outputs": [],
   "source": [
    "# Subreddit Cryptocurency\n",
    "\n",
    "crypto_subreddit = reddit.subreddit(\"CryptoCurrency\")\n",
    "top_post = crypto_subreddit.search(\"BTC\",\"Bitcoin\",limit=100)\n",
    "words = []\n",
    "\n",
    "# Download post titles with BTC words\n",
    "\n",
    "for word in top_post:\n",
    "    words.append([word.title, word.selftext, word.created_utc])\n",
    "    \n",
    "words = pd.DataFrame(words, columns = ['Title', 'Text Body', 'Time Created'])\n",
    "words['Time Created'] = pd.to_datetime(words['Time Created'],unit='s')\n",
    "#print(words[:5])\n",
    "#print(words[-5:])\n",
    "\n",
    "# Save them into csv. or SQL\n",
    "\n",
    "#words.to_csv(\"C:/Users/file.csv\")\n"
   ]
  },
  {
   "cell_type": "markdown",
   "metadata": {},
   "source": [
    "## Using Pushshift \n",
    "Enables retrieving of specific dates."
   ]
  },
  {
   "cell_type": "code",
   "execution_count": 6,
   "metadata": {},
   "outputs": [
    {
     "name": "stdout",
     "output_type": "stream",
     "text": [
      "Switching data files 11-2020\n",
      "Switching data files 10-2020\n",
      "Switching data files 9-2020\n",
      "Switching data files 8-2020\n",
      "Switching data files 7-2020\n",
      "Switching data files 6-2020\n",
      "Switching data files 5-2020\n",
      "Switching data files 4-2020\n"
     ]
    },
    {
     "name": "stderr",
     "output_type": "stream",
     "text": [
      "C:\\Users\\fgfra\\Anaconda3\\lib\\site-packages\\psaw\\PushshiftAPI.py:192: UserWarning: Got non 200 code 502\n",
      "  warnings.warn(\"Got non 200 code %s\" % response.status_code)\n",
      "C:\\Users\\fgfra\\Anaconda3\\lib\\site-packages\\psaw\\PushshiftAPI.py:180: UserWarning: Unable to connect to pushshift.io. Retrying after backoff.\n",
      "  warnings.warn(\"Unable to connect to pushshift.io. Retrying after backoff.\")\n"
     ]
    },
    {
     "name": "stdout",
     "output_type": "stream",
     "text": [
      "Switching data files 3-2020\n",
      "Switching data files 2-2020\n",
      "Switching data files 1-2020\n"
     ]
    },
    {
     "ename": "NameError",
     "evalue": "name 'f' is not defined",
     "output_type": "error",
     "traceback": [
      "\u001b[1;31m---------------------------------------------------------------------------\u001b[0m",
      "\u001b[1;31mNameError\u001b[0m                                 Traceback (most recent call last)",
      "\u001b[1;32m<ipython-input-6-8055e773f259>\u001b[0m in \u001b[0;36m<module>\u001b[1;34m\u001b[0m\n\u001b[0;32m     30\u001b[0m         \u001b[0mcvsWriter\u001b[0m \u001b[1;33m=\u001b[0m \u001b[0mcsv\u001b[0m\u001b[1;33m.\u001b[0m\u001b[0mwriter\u001b[0m\u001b[1;33m(\u001b[0m\u001b[0mopen\u001b[0m\u001b[1;33m(\u001b[0m\u001b[1;34mf\"{data_folder}{file_name}.csv\"\u001b[0m\u001b[1;33m,\u001b[0m \u001b[1;34m'a'\u001b[0m\u001b[1;33m,\u001b[0m \u001b[0mencoding\u001b[0m\u001b[1;33m=\u001b[0m\u001b[1;34m\"UTF-8\"\u001b[0m\u001b[1;33m)\u001b[0m\u001b[1;33m)\u001b[0m\u001b[1;33m\u001b[0m\u001b[1;33m\u001b[0m\u001b[0m\n\u001b[0;32m     31\u001b[0m     \u001b[0mcvsWriter\u001b[0m\u001b[1;33m.\u001b[0m\u001b[0mwriterow\u001b[0m\u001b[1;33m(\u001b[0m\u001b[1;33m[\u001b[0m\u001b[0msubmission\u001b[0m\u001b[1;33m.\u001b[0m\u001b[0mtitle\u001b[0m\u001b[1;33m,\u001b[0m \u001b[0msubmission\u001b[0m\u001b[1;33m.\u001b[0m\u001b[0mselftext\u001b[0m\u001b[1;33m,\u001b[0m \u001b[0mdt_object\u001b[0m\u001b[1;33m.\u001b[0m\u001b[0mmonth\u001b[0m\u001b[1;33m,\u001b[0m \u001b[0mdt_object\u001b[0m\u001b[1;33m.\u001b[0m\u001b[0mday\u001b[0m\u001b[1;33m,\u001b[0m \u001b[0mdt_object\u001b[0m\u001b[1;33m.\u001b[0m\u001b[0myear\u001b[0m\u001b[1;33m,\u001b[0m \u001b[0mdt_object\u001b[0m\u001b[1;33m.\u001b[0m\u001b[0mhour\u001b[0m\u001b[1;33m]\u001b[0m\u001b[1;33m)\u001b[0m\u001b[1;33m\u001b[0m\u001b[1;33m\u001b[0m\u001b[0m\n\u001b[1;32m---> 32\u001b[1;33m \u001b[0mf\u001b[0m\u001b[1;33m.\u001b[0m\u001b[0mclose\u001b[0m\u001b[1;33m(\u001b[0m\u001b[1;33m)\u001b[0m\u001b[1;33m\u001b[0m\u001b[1;33m\u001b[0m\u001b[0m\n\u001b[0m",
      "\u001b[1;31mNameError\u001b[0m: name 'f' is not defined"
     ]
    }
   ],
   "source": [
    "# Data Querry with Pushshift\n",
    "\n",
    "start = int(datetime(2020, 1, 1).timestamp())\n",
    "end = int(datetime(2020, 12, 31).timestamp())\n",
    "api = PushshiftAPI(reddit)\n",
    "run = api.search_submissions(after=start, before=end, subreddit='CryptoCurrency')\n",
    "\n",
    "# Save location\n",
    "data_folder = \"C:/Users/../Reddit_Posts\"\n",
    "file_name = \" 12-2020\"\n",
    "\n",
    "CHECK_FOLDER = os.path.isdir(data_folder)\n",
    "\n",
    "# Loop for checking if folder exists\n",
    "\n",
    "if not CHECK_FOLDER:\n",
    "    os.makedirs(data_folder)\n",
    "    print(\"Created folder : \", data_folder)\n",
    "\n",
    "# Data download\n",
    "\n",
    "cvsWriter = csv.writer(open(f\"{data_folder}{file_name}.csv\", 'a', encoding=\"UTF-8\"))\n",
    "count = 0\n",
    "for submission in run:\n",
    "    count += 1\n",
    "    dt_object = datetime.fromtimestamp(submission.created_utc)\n",
    "    if file_name != f\"{dt_object.month}-{dt_object.year}\":\n",
    "        file_name = f\"{dt_object.month}-{dt_object.year}\"\n",
    "        print(f\"Switching data files {file_name}\")\n",
    "        cvsWriter = csv.writer(open(f\"{data_folder}{file_name}.csv\", 'a', encoding=\"UTF-8\"))\n",
    "    cvsWriter.writerow([submission.title, submission.selftext, dt_object.month, dt_object.day, dt_object.year, dt_object.hour])\n",
    "f.close()"
   ]
  },
  {
   "cell_type": "code",
   "execution_count": null,
   "metadata": {},
   "outputs": [],
   "source": []
  }
 ],
 "metadata": {
  "kernelspec": {
   "display_name": "Python 3",
   "language": "python",
   "name": "python3"
  },
  "language_info": {
   "codemirror_mode": {
    "name": "ipython",
    "version": 3
   },
   "file_extension": ".py",
   "mimetype": "text/x-python",
   "name": "python",
   "nbconvert_exporter": "python",
   "pygments_lexer": "ipython3",
   "version": "3.7.3"
  }
 },
 "nbformat": 4,
 "nbformat_minor": 2
}
