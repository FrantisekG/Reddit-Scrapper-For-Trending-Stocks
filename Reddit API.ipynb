{
 "cells": [
  {
   "cell_type": "markdown",
   "metadata": {},
   "source": [
    "# Script Objectives\n",
    "1) Scrape posts that mention BTC\n",
    "\n",
    "2) Collect historical mentions from 1.1.2020 - 1.1.2021\n",
    "\n",
    "3) Save data into csv format into SQL database\n",
    "\n",
    "4) Apply NLP on or Linear regression to see results"
   ]
  },
  {
   "cell_type": "code",
   "execution_count": 137,
   "metadata": {},
   "outputs": [],
   "source": [
    "# Libraries\n",
    "\n",
    "import praw\n",
    "import os\n",
    "import requests\n",
    "import pandas as pd\n",
    "import csv\n",
    "from psaw import PushshiftAPI\n",
    "from datetime import datetime\n",
    "\n",
    "# Reddit API id establishment\n",
    "\n",
    "reddit = praw.Reddit(\n",
    "    client_id=\"U_X...\",\n",
    "    client_secret=\"z34...\",\n",
    "    password=\"***\",\n",
    "    user_agent=\"testscript by u/bot\",\n",
    "    username=\"bot\",)\n",
    "#print(reddit.user.me())"
   ]
  },
  {
   "cell_type": "code",
   "execution_count": 147,
   "metadata": {},
   "outputs": [
    {
     "name": "stdout",
     "output_type": "stream",
     "text": [
      "                                               Title  \\\n",
      "0  I am LOVING the fact that ETH is moving indepe...   \n",
      "1  People who belittle BTC should understand this...   \n",
      "2  Bitcoin Whales Are Accumulating Behind The Sce...   \n",
      "3  Who remembers the \"Pineapple Fund\" of 2018, wh...   \n",
      "4  I told my friend to buy BTC last week. He stop...   \n",
      "\n",
      "                                           Text Body        Time Created  \n",
      "0  Although BTC started to tank a little today, E... 2021-05-01 17:15:45  \n",
      "1  The technology in the Cryptocurrency space wil... 2021-05-15 22:25:19  \n",
      "2                                                    2021-06-04 11:15:42  \n",
      "3  It was one of the high-points of the Bear Mark... 2021-05-24 11:30:12  \n",
      "4  I have some friends and family who are pro cry... 2021-04-19 04:06:54  \n",
      "                                                Title  \\\n",
      "95  When will the bull market end? A Simple Tool f...   \n",
      "96                     Hypothetical: 1 BTC or 20 ETH?   \n",
      "97  Waiting for someone whose been in this game fo...   \n",
      "98  More countries are banning Bitcoin mining - fo...   \n",
      "99  Corporations Purchased $8 Billion Worth of BTC...   \n",
      "\n",
      "                                            Text Body        Time Created  \n",
      "95  I've been asked several times by friends and f... 2021-04-21 14:37:28  \n",
      "96  Out of the two which of these do you think cou... 2021-05-15 19:49:11  \n",
      "97  Hello veterans,\\n\\nWe noobs need you to calm u... 2021-04-22 20:44:17  \n",
      "98                                                    2021-05-26 13:52:15  \n",
      "99                                                    2021-05-04 10:15:45  \n"
     ]
    }
   ],
   "source": [
    "# Subreddit Cryptocurency\n",
    "\n",
    "crypto_subreddit = reddit.subreddit(\"CryptoCurrency\")\n",
    "top_post = crypto_subreddit.search(\"BTC\",\"Bitcoin\",limit=100)\n",
    "words = []\n",
    "\n",
    "# Download post titles with BTC words\n",
    "\n",
    "for word in top_post:\n",
    "    words.append([word.title, word.selftext, word.created_utc])\n",
    "    \n",
    "words = pd.DataFrame(words, columns = ['Title', 'Text Body', 'Time Created'])\n",
    "words['Time Created'] = pd.to_datetime(words['Time Created'],unit='s')\n",
    "print(words[:5])\n",
    "print(words[-5:])\n",
    "\n",
    "# Save them into csv. or SQL\n",
    "\n",
    "#words.to_csv(\"C:/Users/file.csv\")\n"
   ]
  },
  {
   "cell_type": "code",
   "execution_count": null,
   "metadata": {},
   "outputs": [],
   "source": []
  }
 ],
 "metadata": {
  "kernelspec": {
   "display_name": "Python 3",
   "language": "python",
   "name": "python3"
  },
  "language_info": {
   "codemirror_mode": {
    "name": "ipython",
    "version": 3
   },
   "file_extension": ".py",
   "mimetype": "text/x-python",
   "name": "python",
   "nbconvert_exporter": "python",
   "pygments_lexer": "ipython3",
   "version": "3.7.3"
  }
 },
 "nbformat": 4,
 "nbformat_minor": 2
}
